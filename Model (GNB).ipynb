{
 "cells": [
  {
   "cell_type": "code",
   "execution_count": 1,
   "id": "1b686f04",
   "metadata": {},
   "outputs": [],
   "source": [
    "import numpy as np\n",
    "import pandas as pd\n",
    "import pickle\n",
    "from sklearn.naive_bayes import GaussianNB\n",
    "from sklearn.model_selection import train_test_split\n",
    "from sklearn.metrics import confusion_matrix, classification_report"
   ]
  },
  {
   "cell_type": "code",
   "execution_count": null,
   "id": "f9089a4f",
   "metadata": {},
   "outputs": [],
   "source": [
    "#Reading the dataset\n",
    "df = pd.read_csv('final_set.csv')"
   ]
  },
  {
   "cell_type": "code",
   "execution_count": 3,
   "id": "5022423f",
   "metadata": {},
   "outputs": [
    {
     "data": {
      "text/plain": [
       "(128, 6)"
      ]
     },
     "execution_count": 3,
     "metadata": {},
     "output_type": "execute_result"
    }
   ],
   "source": [
    "df.shape"
   ]
  },
  {
   "cell_type": "code",
   "execution_count": 6,
   "id": "9ef60653",
   "metadata": {},
   "outputs": [],
   "source": [
    "#Preprocessing the dataset\n",
    "\n",
    "#Converting words to integer values\n",
    "def convert_to_int(word):\n",
    "    word_dict = {\n",
    "        \"Arusha\": 1,\n",
    "        \"Dar es salaam\": 2,\n",
    "        \"Dodoma\" : 3,\n",
    "        \"Geita\" : 4,\n",
    "        \"Iringa\" : 5,\n",
    "        \"Kagera\" : 6,\n",
    "        \"Katavi\" : 7,\n",
    "        \"Kigoma\" : 8,\n",
    "        \"Kilimanjaro\" : 9,\n",
    "        \"Lindi\" : 10,\n",
    "        \"Manyara\" : 11,\n",
    "        \"Mara\" : 12,\n",
    "        \"Mbeya\" : 13,\n",
    "        \"Morogoro\" : 14,\n",
    "        \"Mtwara\" : 15,\n",
    "        \"Mwanza\" : 16,\n",
    "        \"Njombe\": 17,\n",
    "        \"Pwani\" : 18,\n",
    "        \"Rukwa\" : 19,\n",
    "        \"Ruvuma\" : 20,\n",
    "        \"Shinyanga\" : 21,\n",
    "        \"Simiyu\" : 22,\n",
    "        \"Singida\" : 23,\n",
    "        \"Songwe\" : 24,\n",
    "        \"Tabora\" : 25,\n",
    "        \"Tanga\" : 26\n",
    "    }\n",
    "    return word_dict[word]\n",
    "\n",
    "\n",
    "\n",
    "def convert_to_int2(word):\n",
    "    word_dict = {\n",
    "        \"Rural\": 0,\n",
    "        \"Urban\": 1\n",
    "    }\n",
    "    return word_dict[word]\n",
    "\n",
    "\n",
    "\n",
    "\n",
    "#Encoding region\n",
    "df[\"Region\"] = df[\"Region\"].apply(lambda x : convert_to_int(x))\n",
    "\n",
    "#Encoding region\n",
    "df[\"Rural/Urban\"] = df[\"Rural/Urban\"].apply(lambda x : convert_to_int2(x))"
   ]
  },
  {
   "cell_type": "code",
   "execution_count": 9,
   "id": "b9ed7bcf",
   "metadata": {},
   "outputs": [],
   "source": [
    "#Creating variables X and y\n",
    "X = df.iloc[:,:3].values\n",
    "y = df.iloc[:,-1].values"
   ]
  },
  {
   "cell_type": "code",
   "execution_count": 57,
   "id": "c77a8c4c",
   "metadata": {},
   "outputs": [],
   "source": [
    "#splitting the data into train and test\n",
    "#X_train,X_test,y_train,y_test = train_test_split(X,y,test_size=0.25,random_state=45)\n",
    "X_train,X_test,y_train,y_test = train_test_split(X,y,train_size=0.75,test_size=0.25, random_state=101)"
   ]
  },
  {
   "cell_type": "markdown",
   "id": "fe033cf7",
   "metadata": {},
   "source": [
    "## GNB"
   ]
  },
  {
   "cell_type": "code",
   "execution_count": 58,
   "id": "7c220e2d",
   "metadata": {},
   "outputs": [],
   "source": [
    "#create a Gaussian classifier\n",
    "model = GaussianNB()\n",
    "\n",
    "#train models with training data\n",
    "model.fit(X_train,y_train)\n",
    "\n",
    "#response prediction for test data\n",
    "y_pred = model.predict(X_test)"
   ]
  },
  {
   "cell_type": "code",
   "execution_count": 59,
   "id": "5d779b18",
   "metadata": {},
   "outputs": [],
   "source": [
    "# Saving model to disk\n",
    "pickle.dump(model, open('model.pkl','wb'))"
   ]
  },
  {
   "cell_type": "code",
   "execution_count": 60,
   "id": "3ad4e50e",
   "metadata": {},
   "outputs": [
    {
     "data": {
      "text/html": [
       "<div>\n",
       "<style scoped>\n",
       "    .dataframe tbody tr th:only-of-type {\n",
       "        vertical-align: middle;\n",
       "    }\n",
       "\n",
       "    .dataframe tbody tr th {\n",
       "        vertical-align: top;\n",
       "    }\n",
       "\n",
       "    .dataframe thead th {\n",
       "        text-align: right;\n",
       "    }\n",
       "</style>\n",
       "<table border=\"1\" class=\"dataframe\">\n",
       "  <thead>\n",
       "    <tr style=\"text-align: right;\">\n",
       "      <th></th>\n",
       "      <th>Region</th>\n",
       "      <th>Rural/Urban</th>\n",
       "      <th>Year</th>\n",
       "      <th>Positive</th>\n",
       "      <th>Tested</th>\n",
       "      <th>Prevalence</th>\n",
       "    </tr>\n",
       "  </thead>\n",
       "  <tbody>\n",
       "    <tr>\n",
       "      <th>0</th>\n",
       "      <td>1</td>\n",
       "      <td>0</td>\n",
       "      <td>2015</td>\n",
       "      <td>28</td>\n",
       "      <td>153</td>\n",
       "      <td>18</td>\n",
       "    </tr>\n",
       "    <tr>\n",
       "      <th>1</th>\n",
       "      <td>1</td>\n",
       "      <td>0</td>\n",
       "      <td>2019</td>\n",
       "      <td>28</td>\n",
       "      <td>191</td>\n",
       "      <td>15</td>\n",
       "    </tr>\n",
       "    <tr>\n",
       "      <th>2</th>\n",
       "      <td>1</td>\n",
       "      <td>0</td>\n",
       "      <td>2021</td>\n",
       "      <td>406</td>\n",
       "      <td>2264</td>\n",
       "      <td>18</td>\n",
       "    </tr>\n",
       "    <tr>\n",
       "      <th>3</th>\n",
       "      <td>1</td>\n",
       "      <td>1</td>\n",
       "      <td>2019</td>\n",
       "      <td>28</td>\n",
       "      <td>227</td>\n",
       "      <td>12</td>\n",
       "    </tr>\n",
       "    <tr>\n",
       "      <th>4</th>\n",
       "      <td>1</td>\n",
       "      <td>1</td>\n",
       "      <td>2021</td>\n",
       "      <td>99</td>\n",
       "      <td>712</td>\n",
       "      <td>14</td>\n",
       "    </tr>\n",
       "    <tr>\n",
       "      <th>5</th>\n",
       "      <td>2</td>\n",
       "      <td>0</td>\n",
       "      <td>2021</td>\n",
       "      <td>627</td>\n",
       "      <td>5256</td>\n",
       "      <td>12</td>\n",
       "    </tr>\n",
       "    <tr>\n",
       "      <th>6</th>\n",
       "      <td>2</td>\n",
       "      <td>1</td>\n",
       "      <td>2015</td>\n",
       "      <td>43</td>\n",
       "      <td>410</td>\n",
       "      <td>10</td>\n",
       "    </tr>\n",
       "    <tr>\n",
       "      <th>7</th>\n",
       "      <td>2</td>\n",
       "      <td>1</td>\n",
       "      <td>2017</td>\n",
       "      <td>49</td>\n",
       "      <td>721</td>\n",
       "      <td>7</td>\n",
       "    </tr>\n",
       "    <tr>\n",
       "      <th>8</th>\n",
       "      <td>2</td>\n",
       "      <td>1</td>\n",
       "      <td>2019</td>\n",
       "      <td>33</td>\n",
       "      <td>736</td>\n",
       "      <td>4</td>\n",
       "    </tr>\n",
       "    <tr>\n",
       "      <th>9</th>\n",
       "      <td>3</td>\n",
       "      <td>0</td>\n",
       "      <td>2019</td>\n",
       "      <td>30</td>\n",
       "      <td>256</td>\n",
       "      <td>12</td>\n",
       "    </tr>\n",
       "  </tbody>\n",
       "</table>\n",
       "</div>"
      ],
      "text/plain": [
       "   Region  Rural/Urban  Year  Positive  Tested  Prevalence\n",
       "0       1            0  2015        28     153          18\n",
       "1       1            0  2019        28     191          15\n",
       "2       1            0  2021       406    2264          18\n",
       "3       1            1  2019        28     227          12\n",
       "4       1            1  2021        99     712          14\n",
       "5       2            0  2021       627    5256          12\n",
       "6       2            1  2015        43     410          10\n",
       "7       2            1  2017        49     721           7\n",
       "8       2            1  2019        33     736           4\n",
       "9       3            0  2019        30     256          12"
      ]
     },
     "execution_count": 60,
     "metadata": {},
     "output_type": "execute_result"
    }
   ],
   "source": [
    "df.head(10)"
   ]
  },
  {
   "cell_type": "code",
   "execution_count": 65,
   "id": "5ee14759",
   "metadata": {},
   "outputs": [
    {
     "name": "stdout",
     "output_type": "stream",
     "text": [
      "[18]\n"
     ]
    }
   ],
   "source": [
    "# Loading model to compare the results\n",
    "model = pickle.load(open('model.pkl','rb'))\n",
    "print(model.predict([[1,0,2021]]))"
   ]
  },
  {
   "cell_type": "code",
   "execution_count": 66,
   "id": "4db5fa2b",
   "metadata": {},
   "outputs": [
    {
     "name": "stdout",
     "output_type": "stream",
     "text": [
      "OUTPUT:\n",
      "The Mean absolute error is : 15.1875\n",
      "The Mean squared error is : 335.1875\n"
     ]
    }
   ],
   "source": [
    "from sklearn.metrics import mean_squared_error\n",
    "from sklearn.metrics import mean_absolute_error\n",
    "\n",
    "mae = mean_absolute_error(y_test, y_pred)\n",
    "mse = mean_squared_error(y_test, y_pred)\n",
    "print(f\"\"\"OUTPUT:\n",
    "The Mean absolute error is : {mae}\n",
    "The Mean squared error is : {mse}\"\"\")"
   ]
  },
  {
   "cell_type": "code",
   "execution_count": 67,
   "id": "5293d708",
   "metadata": {},
   "outputs": [
    {
     "data": {
      "image/png": "[encoded data removed]",
      "text/plain": [
       "<Figure size 432x288 with 1 Axes>"
      ]
     },
     "metadata": {
      "needs_background": "light"
     },
     "output_type": "display_data"
    }
   ],
   "source": [
    "import matplotlib.pyplot as plt \n",
    "\n",
    "x_ax = range(len(y_test))\n",
    "plt.plot(x_ax, y_test, label=\"original\")\n",
    "plt.plot(x_ax, y_pred, label=\"predicted\")\n",
    "plt.legend()\n",
    "plt.show()"
   ]
  },
  {
   "cell_type": "code",
   "execution_count": null,
   "id": "545e9366",
   "metadata": {},
   "outputs": [],
   "source": []
  }
 ],
 "metadata": {
  "kernelspec": {
   "display_name": "Python 3 (ipykernel)",
   "language": "python",
   "name": "python3"
  },
  "language_info": {
   "codemirror_mode": {
    "name": "ipython",
    "version": 3
   },
   "file_extension": ".py",
   "mimetype": "text/x-python",
   "name": "python",
   "nbconvert_exporter": "python",
   "pygments_lexer": "ipython3",
   "version": "3.11.7"
  }
 },
 "nbformat": 4,
 "nbformat_minor": 5
}
